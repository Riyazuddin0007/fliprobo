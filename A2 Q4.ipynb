{
 "cells": [
  {
   "cell_type": "markdown",
   "id": "20e8c250",
   "metadata": {},
   "source": [
    "Q4: Scrape data of first 100 sunglasses listings on flipkart.com. You have to scrape four attributes:\n",
    "1. Brand\n",
    "2. ProductDescription\n",
    "3. Price\n",
    "The attributes which you have to scrape is ticked marked in the below image.\n",
    "\n",
    "To scrape the data you have to go through following steps:\n",
    "1. Go to Flipkart webpage by url :https://www.flipkart.com/\n",
    "2. Enter “sunglasses” in the search field where “search for products, brands and more” is written and\n",
    "click the search icon\n",
    "3. After that you will reach to the page having a lot of sunglasses. From this page you can scrap the\n",
    "required data asusual.\n",
    "4. After scraping data from the first page, go to the “Next” Button at the bottom other page , then\n",
    "click on it.\n",
    "5. Now scrape data from this page asusual\n",
    "6. Repeat this until you get data for 100sunglasses.\n",
    "\n"
   ]
  },
  {
   "cell_type": "code",
   "execution_count": 1,
   "id": "2200d64b",
   "metadata": {},
   "outputs": [],
   "source": [
    "import selenium\n",
    "import pandas as pd\n",
    "from selenium import webdriver #very important line\n",
    "import warnings\n",
    "warnings.filterwarnings('ignore')\n",
    "from selenium.common.exceptions import StaleElementReferenceException,NoSuchElementException #Can ignore this line\n",
    "from selenium.webdriver.common.by import By\n",
    "import time"
   ]
  },
  {
   "cell_type": "code",
   "execution_count": 2,
   "id": "7b8cf692",
   "metadata": {},
   "outputs": [],
   "source": [
    "driver=webdriver.Chrome(r'C:\\Users\\RIYAZ\\Downloads\\chromedriver_win32\\chromedriver.exe')"
   ]
  },
  {
   "cell_type": "code",
   "execution_count": 3,
   "id": "18986a96",
   "metadata": {},
   "outputs": [],
   "source": [
    "driver.get('https://www.flipkart.com/')\n",
    "\n",
    "close_p=driver.find_element(By.XPATH,'/html/body/div[2]/div/div/button')\n",
    "close_p.click()"
   ]
  },
  {
   "cell_type": "code",
   "execution_count": 4,
   "id": "8419c7fa",
   "metadata": {},
   "outputs": [],
   "source": [
    "glasses=driver.find_element(By.XPATH,'/html/body/div/div/div[1]/div[1]/div[2]/div[2]/form/div/div/input')\n",
    "glasses.send_keys('glasses')"
   ]
  },
  {
   "cell_type": "code",
   "execution_count": 5,
   "id": "66b9d253",
   "metadata": {},
   "outputs": [],
   "source": [
    "submit=driver.find_element(By.XPATH,'/html/body/div/div/div[1]/div[1]/div[2]/div[2]/form/div/button')\n",
    "submit.click()"
   ]
  },
  {
   "cell_type": "code",
   "execution_count": 6,
   "id": "c82fdf13",
   "metadata": {},
   "outputs": [],
   "source": [
    "LBrand=[]\n",
    "LProductDescription=[]\n",
    "LPrice=[]"
   ]
  },
  {
   "cell_type": "code",
   "execution_count": 7,
   "id": "aa9ae309",
   "metadata": {},
   "outputs": [
    {
     "name": "stdout",
     "output_type": "stream",
     "text": [
      "Full Rim (+0.25) Rectangle Reading Glass For Men & Wome...\n",
      "Half Rim (+2.75) Rectangle Reading Glass For Men & Wome...\n",
      "Full Rim (+2.50) Round Reading Glass For Men & Women\n",
      "Full Rim (+2.25) Rectangle Computer Glass For Men & Wom...\n",
      "Full Rim (+1.00) Round Reading Glass For Men & Women\n",
      "Full Rim (+1.25) Rectangle Anti Glare & Blue Cut Readin...\n",
      "Full Rim (+2.75) Round Reading Glass For Men & Women\n",
      "Full Rim (+1.75) Round Reading Glass For Men & Women\n",
      "Full Rim (+2.50) Round Reading Glass For Men & Women\n",
      "Full Rim (+1.50) Round Reading Glass For Men & Women\n",
      "Half Rim (+2.50) Rectangle Reading Glass For Men & Wome...\n",
      "Full Rim (+1.25) Rectangle Reading Glass For Men & Wome...\n",
      "Full Rim (+0.50) Rectangle Anti Glare & Blue Cut Comput...\n",
      "Full Rim (+1.50) Round Reading Glass For Men & Women\n",
      "Full Rim (+2.50) Rectangle Reading Glass For Men & Wome...\n",
      "Full Rim (+2.25) Rectangle Reading Glass For Men & Wome...\n",
      "Full Rim (+1.75) Round Reading Glass For Men & Women\n",
      "Half Rim (+1.50) Rectangle Reading Glass For Men & Wome...\n",
      "Full Rim (+3.00) Rectangle Reading Glass For Men & Wome...\n",
      "Full Rim (+1.25) Round Reading Glass For Men & Women\n",
      "Half Rim (+3.00) Rectangle Reading Glass For Men & Wome...\n",
      "Half Rim (+1.00) Rectangle Reading Glass For Men & Wome...\n",
      "Full Rim (+2.75) Rectangle Reading Glass For Men & Wome...\n",
      "Full Rim (+2.50) Round Reading Glass For Men & Women\n",
      "Full Rim (+1.25) Rectangle Anti Glare Reading Glass For...\n",
      "Full Rim (+2.25) Round Reading Glass For Men & Women\n",
      "Half Rim (+1.00) Rectangle Reading Glass For Men & Wome...\n",
      "Half Rim (+2.00) Rectangle Reading Glass For Men & Wome...\n",
      "Full Rim (+2.50) Round Anti Glare & Blue Cut Reading Gl...\n",
      "Full Rim (+2.00) Round Reading Glass For Men & Women\n",
      "Full Rim (+2.50) Round Reading Glass For Men & Women\n",
      "Full Rim (+1.00) Round Reading Glass For Men & Women\n",
      "Full Rim (+1.00) Rectangle Reading Glass For Men & Wome...\n",
      "Full Rim (+2.25) Square Reading Glass For Men & Women\n",
      "Full Rim (+2.50) Rectangle Reading Glass For Men & Wome...\n"
     ]
    }
   ],
   "source": [
    "brand=driver.find_elements(By.XPATH,'//div[@class=\"_2WkVRV\"]')\n",
    "for i in brand:\n",
    "    LBrand.append(i.text)\n",
    "\n",
    "productDesc=driver.find_elements(By.XPATH,'//a[@class=\"IRpwTa\"]')\n",
    "for i in productDesc:\n",
    "    print(i.text)\n",
    "    LProductDescription.append(i.text)\n",
    "\n",
    "price=driver.find_elements(By.XPATH,'//div[@class=\"_30jeq3\"]')\n",
    "for i in price:\n",
    "    LPrice.append(i.text)"
   ]
  },
  {
   "cell_type": "code",
   "execution_count": 8,
   "id": "0779e69a",
   "metadata": {},
   "outputs": [
    {
     "name": "stdout",
     "output_type": "stream",
     "text": [
      "35 40 40\n"
     ]
    }
   ],
   "source": [
    "print(len(LProductDescription),len(LBrand),len(LPrice))"
   ]
  },
  {
   "cell_type": "code",
   "execution_count": 9,
   "id": "24969674",
   "metadata": {},
   "outputs": [],
   "source": [
    "nextb=driver.find_element(By.XPATH,'/html/body/div[1]/div/div[3]/div[1]/div[2]/div[12]/div/div/nav/a[11]/span')\n",
    "nextb.click()"
   ]
  },
  {
   "cell_type": "code",
   "execution_count": 10,
   "id": "a0c61ea2",
   "metadata": {},
   "outputs": [
    {
     "name": "stdout",
     "output_type": "stream",
     "text": [
      "Half Rim (+1.75) Rectangle Reading Glass For Men & Wome...\n",
      "Full Rim (+1.25) Rectangle Reading Glass For Men & Wome...\n",
      "Full Rim (+2.50) Rectangle Reading Glass For Men & Wome...\n",
      "Full Rim (+2.50) Round Reading Glass For Men & Women\n",
      "Full Rim (+1.00) Rectangle Reading Glass For Men & Wome...\n",
      "Full Rim (+3.00) Round Reading Glass For Men & Women\n",
      "Full Rim (+1.25) Cat-eyed Reading Glass For Women\n",
      "Full Rim (+1.75) Rectangle Reading Glass For Men & Wome...\n",
      "Full Rim (+2.00) Round Reading Glass For Men & Women\n",
      "Full Rim (+2.00) Round Reading Glass For Men & Women\n",
      "Full Rim (+2.50) Rectangle Reading Glass For Men & Wome...\n",
      "Half Rim (+2.75) Rectangle Reading Glass For Men & Wome...\n",
      "Full Rim (+1.00) Rectangle Reading Glass For Men & Wome...\n",
      "Half Rim (+2.50) Rectangle Reading Glass For Men & Wome...\n",
      "Full Rim (+2.75) Round Reading Glass For Men & Women\n",
      "Full Rim (+3.00) Round Reading Glass For Men & Women\n",
      "Full Rim (+2.75) Round Reading Glass For Men & Women\n",
      "Full Rim (+3.00) Rectangle Anti Glare & Blue Cut Readin...\n",
      "Full Rim (+1.75) Round Reading Glass For Men & Women\n",
      "Full Rim (+2.75) Round Reading Glass For Men & Women\n",
      "Full Rim (+2.25) Round Reading Glass For Men & Women\n",
      "Full Rim (+3.00) Rectangle Reading Glass For Men & Wome...\n",
      "Half Rim (+1.50) Rectangle Reading Glass For Men & Wome...\n",
      "Full Rim (+1.25) Square Reading Glass For Men & Women\n",
      "Full Rim (+2.75) Round Reading Glass For Men & Women\n",
      "Full Rim (+2.25) Square Reading Glass For Men & Women\n",
      "Full Rim (+2.50) Square Anti Glare Reading Glass For Me...\n",
      "Full Rim (+4.00) Rectangle Reading Glass For Men & Wome...\n",
      "Full Rim (+1.25) Round Reading Glass For Men & Women\n",
      "Rimless (+2.75) Rectangle Anti Glare Reading Glass For ...\n",
      "Full Rim (+1.25) Round Anti Glare & Blue Cut Reading Gl...\n"
     ]
    }
   ],
   "source": [
    "brand=driver.find_elements(By.XPATH,'//div[@class=\"_2WkVRV\"]')\n",
    "for i in brand:\n",
    "    LBrand.append(i.text)\n",
    "\n",
    "productDesc=driver.find_elements(By.XPATH,'//a[@class=\"IRpwTa\"]')\n",
    "for i in productDesc:\n",
    "    print(i.text)\n",
    "    LProductDescription.append(i.text)\n",
    "\n",
    "price=driver.find_elements(By.XPATH,'//div[@class=\"_30jeq3\"]')\n",
    "for i in price:\n",
    "    LPrice.append(i.text)"
   ]
  },
  {
   "cell_type": "code",
   "execution_count": 11,
   "id": "04e7411b",
   "metadata": {},
   "outputs": [],
   "source": [
    "nextbb=driver.find_element(By.XPATH,'/html/body/div[1]/div/div[3]/div[1]/div[2]/div[12]/div/div/nav/a[12]/span')\n",
    "\n",
    "nextbb.click()"
   ]
  },
  {
   "cell_type": "code",
   "execution_count": 12,
   "id": "0813a107",
   "metadata": {},
   "outputs": [
    {
     "name": "stdout",
     "output_type": "stream",
     "text": [
      "Full Rim (+1.75) Rectangle Reading Glass For Men & Wome...\n",
      "Full Rim (+1.75) Rectangle Reading Glass For Men & Wome...\n",
      "Full Rim (+2.50) Rectangle Reading Glass For Men & Wome...\n",
      "Full Rim (+3.00) Square, Rectangle Reading Glass For Me...\n",
      "Half Rim (+2.00) Rectangle Reading Glass For Men & Wome...\n",
      "Half Rim (+2.25) Rectangle Reading Glass For Men & Wome...\n",
      "Full Rim (+1.50) Rectangle Reading Glass For Men & Wome...\n",
      "Full Rim (+2.50) Cat-eyed Reading Glass For Women\n",
      "Full Rim (+3.00) Rectangle Reading Glass For Men & Wome...\n"
     ]
    }
   ],
   "source": [
    "brand=driver.find_elements(By.XPATH,'//div[@class=\"_2WkVRV\"]')\n",
    "for i in brand:\n",
    "    LBrand.append(i.text)\n",
    "\n",
    "productDesc=driver.find_elements(By.XPATH,'//a[@class=\"IRpwTa\"]')\n",
    "for i in productDesc:\n",
    "    print(i.text)\n",
    "    LProductDescription.append(i.text)\n",
    "\n",
    "price=driver.find_elements(By.XPATH,'//div[@class=\"_30jeq3\"]')\n",
    "for i in price:\n",
    "    LPrice.append(i.text)"
   ]
  },
  {
   "cell_type": "code",
   "execution_count": 13,
   "id": "d0b1050c",
   "metadata": {},
   "outputs": [
    {
     "name": "stdout",
     "output_type": "stream",
     "text": [
      "75 120 90\n"
     ]
    }
   ],
   "source": [
    "print(len(LProductDescription),len(LBrand),len(LPrice))"
   ]
  },
  {
   "cell_type": "code",
   "execution_count": null,
   "id": "dd81b5ee",
   "metadata": {},
   "outputs": [],
   "source": [
    "df=pd.DataFrame(LBrand[0:100],LProductDescription[0:100],LPrice[0:100])"
   ]
  },
  {
   "cell_type": "code",
   "execution_count": null,
   "id": "b5fd7448",
   "metadata": {},
   "outputs": [],
   "source": []
  }
 ],
 "metadata": {
  "kernelspec": {
   "display_name": "Python 3 (ipykernel)",
   "language": "python",
   "name": "python3"
  },
  "language_info": {
   "codemirror_mode": {
    "name": "ipython",
    "version": 3
   },
   "file_extension": ".py",
   "mimetype": "text/x-python",
   "name": "python",
   "nbconvert_exporter": "python",
   "pygments_lexer": "ipython3",
   "version": "3.9.12"
  }
 },
 "nbformat": 4,
 "nbformat_minor": 5
}
