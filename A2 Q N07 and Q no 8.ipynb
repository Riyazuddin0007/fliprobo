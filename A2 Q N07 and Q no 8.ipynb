{
 "cells": [
  {
   "cell_type": "code",
   "execution_count": 1,
   "id": "cd19f2a4",
   "metadata": {},
   "outputs": [],
   "source": [
    "import selenium\n",
    "import pandas as pd\n",
    "from selenium import webdriver #very important line\n",
    "import warnings\n",
    "warnings.filterwarnings('ignore')\n",
    "from selenium.common.exceptions import StaleElementReferenceException,NoSuchElementException #Can ignore this line\n",
    "from selenium.webdriver.common.by import By\n",
    "import time"
   ]
  },
  {
   "cell_type": "code",
   "execution_count": 2,
   "id": "d48850bf",
   "metadata": {},
   "outputs": [],
   "source": [
    "driver=webdriver.Chrome(r'C:\\Users\\RIYAZ\\Downloads\\chromedriver_win32\\chromedriver.exe')"
   ]
  },
  {
   "cell_type": "code",
   "execution_count": 3,
   "id": "07e61088",
   "metadata": {},
   "outputs": [],
   "source": [
    "driver.get('https://www.amazon.in/')"
   ]
  },
  {
   "cell_type": "code",
   "execution_count": 4,
   "id": "0a46d677",
   "metadata": {},
   "outputs": [],
   "source": [
    "Laptop_=driver.find_element(By.XPATH,'/html/body/div[1]/header/div/div[1]/div[2]/div/form/div[2]/div[1]/input')\n",
    "Laptop_.send_keys('Laptop')"
   ]
  },
  {
   "cell_type": "code",
   "execution_count": 5,
   "id": "7bc3f768",
   "metadata": {},
   "outputs": [],
   "source": [
    "submit=driver.find_element(By.XPATH,'/html/body/div[1]/header/div/div[1]/div[2]/div/form/div[3]/div/span/input')\n",
    "submit.click()"
   ]
  },
  {
   "cell_type": "code",
   "execution_count": 8,
   "id": "ede9ba9a",
   "metadata": {},
   "outputs": [],
   "source": [
    "\n",
    "cb1=driver.find_element(By.XPATH,'/html/body/div[1]/div[2]/div[1]/div[2]/div/div[3]/span/div[1]/div/div/div[5]/ul[7]/li[11]/span/a/div/label/i')\n",
    "cb1.click()\n"
   ]
  },
  {
   "cell_type": "code",
   "execution_count": 9,
   "id": "946ad6dd",
   "metadata": {},
   "outputs": [],
   "source": [
    "Title=[]\n",
    "Ratings=[]\n",
    "Price=[]\n"
   ]
  },
  {
   "cell_type": "code",
   "execution_count": 10,
   "id": "bc501776",
   "metadata": {},
   "outputs": [],
   "source": [
    "def fun1():\n",
    "    title=driver.find_elements(By.XPATH,'//span[@class=\"a-size-medium a-color-base a-text-normal\"]')\n",
    "    for i in title:\n",
    "        Title.append(i.text)\n",
    "\n",
    "    ratings=driver.find_elements(By.XPATH,'//span[@class=\"a-icon-alt\"]')\n",
    "    for i in ratings:\n",
    "        Ratings.append(i.text)\n",
    "\n",
    "    price=driver.find_elements(By.XPATH,'//span[@class=\"a-price-whole\"]')\n",
    "    for i in price:\n",
    "        Price.append(i.text)"
   ]
  },
  {
   "cell_type": "code",
   "execution_count": 13,
   "id": "7d6409d1",
   "metadata": {},
   "outputs": [],
   "source": [
    "fun1()\n",
    "df=pd.DataFrame({'Title':Title[0:10],'Ratings':Ratings[0:10],'Price':Price[0:10]})"
   ]
  },
  {
   "cell_type": "code",
   "execution_count": 14,
   "id": "e13054eb",
   "metadata": {},
   "outputs": [
    {
     "data": {
      "text/html": [
       "<div>\n",
       "<style scoped>\n",
       "    .dataframe tbody tr th:only-of-type {\n",
       "        vertical-align: middle;\n",
       "    }\n",
       "\n",
       "    .dataframe tbody tr th {\n",
       "        vertical-align: top;\n",
       "    }\n",
       "\n",
       "    .dataframe thead th {\n",
       "        text-align: right;\n",
       "    }\n",
       "</style>\n",
       "<table border=\"1\" class=\"dataframe\">\n",
       "  <thead>\n",
       "    <tr style=\"text-align: right;\">\n",
       "      <th></th>\n",
       "      <th>Title</th>\n",
       "      <th>Ratings</th>\n",
       "      <th>Price</th>\n",
       "    </tr>\n",
       "  </thead>\n",
       "  <tbody>\n",
       "    <tr>\n",
       "      <th>0</th>\n",
       "      <td>ASUS Vivobook 14, Intel Core i7-1165G7 11th Ge...</td>\n",
       "      <td></td>\n",
       "      <td>56,990</td>\n",
       "    </tr>\n",
       "    <tr>\n",
       "      <th>1</th>\n",
       "      <td>ASUS Vivobook 15, 15.6-inch (39.62 cms) FHD, I...</td>\n",
       "      <td></td>\n",
       "      <td>65,250</td>\n",
       "    </tr>\n",
       "    <tr>\n",
       "      <th>2</th>\n",
       "      <td>Samsung Galaxy Book2 (NP750) Intel 12th Gen co...</td>\n",
       "      <td></td>\n",
       "      <td>79,990</td>\n",
       "    </tr>\n",
       "    <tr>\n",
       "      <th>3</th>\n",
       "      <td>(Renewed) Dell Latitude E7470 Intel Core i7 6t...</td>\n",
       "      <td></td>\n",
       "      <td>29,499</td>\n",
       "    </tr>\n",
       "    <tr>\n",
       "      <th>4</th>\n",
       "      <td>HP Pavilion Plus, 12th Gen Intel Core i7 16GB ...</td>\n",
       "      <td></td>\n",
       "      <td>95,990</td>\n",
       "    </tr>\n",
       "    <tr>\n",
       "      <th>5</th>\n",
       "      <td>Dell Inspiron 5320 Laptop, Intel i7-1260P, 16G...</td>\n",
       "      <td></td>\n",
       "      <td>84,910</td>\n",
       "    </tr>\n",
       "    <tr>\n",
       "      <th>6</th>\n",
       "      <td>Lenovo IdeaPad Slim 5 12th Gen Intel Core i7 1...</td>\n",
       "      <td></td>\n",
       "      <td>82,990</td>\n",
       "    </tr>\n",
       "    <tr>\n",
       "      <th>7</th>\n",
       "      <td>ASUS VivoBook K15 OLED (2021), 15.6-inch FHD O...</td>\n",
       "      <td></td>\n",
       "      <td>69,990</td>\n",
       "    </tr>\n",
       "    <tr>\n",
       "      <th>8</th>\n",
       "      <td>HP Pavilion 14 11th Gen Intel Core i7 16GB/1TB...</td>\n",
       "      <td></td>\n",
       "      <td>93,500</td>\n",
       "    </tr>\n",
       "    <tr>\n",
       "      <th>9</th>\n",
       "      <td>HP Victus Gaming Latest 12th Gen Intel Core i7...</td>\n",
       "      <td></td>\n",
       "      <td>85,990</td>\n",
       "    </tr>\n",
       "  </tbody>\n",
       "</table>\n",
       "</div>"
      ],
      "text/plain": [
       "                                               Title Ratings   Price\n",
       "0  ASUS Vivobook 14, Intel Core i7-1165G7 11th Ge...          56,990\n",
       "1  ASUS Vivobook 15, 15.6-inch (39.62 cms) FHD, I...          65,250\n",
       "2  Samsung Galaxy Book2 (NP750) Intel 12th Gen co...          79,990\n",
       "3  (Renewed) Dell Latitude E7470 Intel Core i7 6t...          29,499\n",
       "4  HP Pavilion Plus, 12th Gen Intel Core i7 16GB ...          95,990\n",
       "5  Dell Inspiron 5320 Laptop, Intel i7-1260P, 16G...          84,910\n",
       "6  Lenovo IdeaPad Slim 5 12th Gen Intel Core i7 1...          82,990\n",
       "7  ASUS VivoBook K15 OLED (2021), 15.6-inch FHD O...          69,990\n",
       "8  HP Pavilion 14 11th Gen Intel Core i7 16GB/1TB...          93,500\n",
       "9  HP Victus Gaming Latest 12th Gen Intel Core i7...          85,990"
      ]
     },
     "execution_count": 14,
     "metadata": {},
     "output_type": "execute_result"
    }
   ],
   "source": [
    "df"
   ]
  },
  {
   "cell_type": "markdown",
   "id": "3931a4ed",
   "metadata": {},
   "source": [
    "# Qno 8"
   ]
  },
  {
   "cell_type": "code",
   "execution_count": 18,
   "id": "eec7e4e0",
   "metadata": {},
   "outputs": [],
   "source": [
    "driver=webdriver.Chrome(r'C:\\Users\\RIYAZ\\Downloads\\chromedriver_win32\\chromedriver.exe')\n",
    "    \n",
    "driver.get('https://www.azquotes.com/')"
   ]
  },
  {
   "cell_type": "code",
   "execution_count": 20,
   "id": "05a4b312",
   "metadata": {},
   "outputs": [],
   "source": [
    "submit_=driver.find_element(By.XPATH,'/html/body/div[1]/div[1]/div[1]/div/div[3]/ul/li[5]/a')\n",
    "submit_.click()"
   ]
  },
  {
   "cell_type": "code",
   "execution_count": 21,
   "id": "351853f4",
   "metadata": {},
   "outputs": [],
   "source": [
    "Quotes=[]"
   ]
  },
  {
   "cell_type": "code",
   "execution_count": 22,
   "id": "749a4271",
   "metadata": {},
   "outputs": [],
   "source": [
    "def fun1():\n",
    "    quotes=driver.find_elements(By.XPATH,'//a[@class=\"title\"]')\n",
    "    for i in quotes:\n",
    "        Quotes.append(i.text)"
   ]
  },
  {
   "cell_type": "code",
   "execution_count": 23,
   "id": "d3af9bc3",
   "metadata": {},
   "outputs": [],
   "source": [
    "fun1()\n",
    "nextb=driver.find_element(By.XPATH,'//li[@class=\"next\"]')\n",
    "nextb.click()\n",
    "time.sleep(5)"
   ]
  },
  {
   "cell_type": "code",
   "execution_count": 24,
   "id": "1491a778",
   "metadata": {},
   "outputs": [
    {
     "name": "stdout",
     "output_type": "stream",
     "text": [
      "100\n"
     ]
    }
   ],
   "source": [
    "print(len(Quotes))"
   ]
  },
  {
   "cell_type": "code",
   "execution_count": 25,
   "id": "77205d15",
   "metadata": {},
   "outputs": [
    {
     "name": "stdout",
     "output_type": "stream",
     "text": [
      "200\n"
     ]
    }
   ],
   "source": [
    "fun1()\n",
    "nextb=driver.find_element(By.XPATH,'//li[@class=\"next\"]')\n",
    "nextb.click()\n",
    "time.sleep(5)\n",
    "print(len(Quotes))"
   ]
  },
  {
   "cell_type": "code",
   "execution_count": 26,
   "id": "a05eace0",
   "metadata": {},
   "outputs": [
    {
     "name": "stdout",
     "output_type": "stream",
     "text": [
      "300\n"
     ]
    }
   ],
   "source": [
    "fun1()\n",
    "nextb=driver.find_element(By.XPATH,'//li[@class=\"next\"]')\n",
    "nextb.click()\n",
    "time.sleep(5)\n",
    "print(len(Quotes))"
   ]
  },
  {
   "cell_type": "code",
   "execution_count": 27,
   "id": "e8358dd1",
   "metadata": {},
   "outputs": [
    {
     "name": "stdout",
     "output_type": "stream",
     "text": [
      "400\n"
     ]
    }
   ],
   "source": [
    "fun1()\n",
    "nextb=driver.find_element(By.XPATH,'//li[@class=\"next\"]')\n",
    "nextb.click()\n",
    "time.sleep(5)\n",
    "print(len(Quotes))"
   ]
  },
  {
   "cell_type": "code",
   "execution_count": 28,
   "id": "d5e8e100",
   "metadata": {},
   "outputs": [
    {
     "name": "stdout",
     "output_type": "stream",
     "text": [
      "500\n"
     ]
    }
   ],
   "source": [
    "fun1()\n",
    "nextb=driver.find_element(By.XPATH,'//li[@class=\"next\"]')\n",
    "nextb.click()\n",
    "time.sleep(5)\n",
    "print(len(Quotes))"
   ]
  },
  {
   "cell_type": "code",
   "execution_count": 29,
   "id": "2a8ec3c1",
   "metadata": {},
   "outputs": [
    {
     "name": "stdout",
     "output_type": "stream",
     "text": [
      "600\n"
     ]
    }
   ],
   "source": [
    "fun1()\n",
    "nextb=driver.find_element(By.XPATH,'//li[@class=\"next\"]')\n",
    "nextb.click()\n",
    "time.sleep(5)\n",
    "print(len(Quotes))"
   ]
  },
  {
   "cell_type": "code",
   "execution_count": 30,
   "id": "7caeb371",
   "metadata": {},
   "outputs": [
    {
     "name": "stdout",
     "output_type": "stream",
     "text": [
      "700\n"
     ]
    }
   ],
   "source": [
    "fun1()\n",
    "nextb=driver.find_element(By.XPATH,'//li[@class=\"next\"]')\n",
    "nextb.click()\n",
    "time.sleep(5)\n",
    "print(len(Quotes))"
   ]
  },
  {
   "cell_type": "code",
   "execution_count": 31,
   "id": "86120838",
   "metadata": {},
   "outputs": [
    {
     "name": "stdout",
     "output_type": "stream",
     "text": [
      "800\n"
     ]
    }
   ],
   "source": [
    "fun1()\n",
    "nextb=driver.find_element(By.XPATH,'//li[@class=\"next\"]')\n",
    "nextb.click()\n",
    "time.sleep(5)\n",
    "print(len(Quotes))"
   ]
  },
  {
   "cell_type": "code",
   "execution_count": 32,
   "id": "c52452a6",
   "metadata": {},
   "outputs": [
    {
     "name": "stdout",
     "output_type": "stream",
     "text": [
      "900\n"
     ]
    }
   ],
   "source": [
    "fun1()\n",
    "nextb=driver.find_element(By.XPATH,'//li[@class=\"next\"]')\n",
    "nextb.click()\n",
    "time.sleep(5)\n",
    "print(len(Quotes))"
   ]
  },
  {
   "cell_type": "code",
   "execution_count": 33,
   "id": "fc210101",
   "metadata": {},
   "outputs": [
    {
     "name": "stdout",
     "output_type": "stream",
     "text": [
      "1000\n"
     ]
    }
   ],
   "source": [
    "fun1()\n",
    "\n",
    "print(len(Quotes))"
   ]
  },
  {
   "cell_type": "code",
   "execution_count": 34,
   "id": "58dde129",
   "metadata": {},
   "outputs": [],
   "source": [
    "df=pd.DataFrame({'1000 Quotes':Quotes})"
   ]
  },
  {
   "cell_type": "code",
   "execution_count": 35,
   "id": "3379616d",
   "metadata": {},
   "outputs": [
    {
     "data": {
      "text/html": [
       "<div>\n",
       "<style scoped>\n",
       "    .dataframe tbody tr th:only-of-type {\n",
       "        vertical-align: middle;\n",
       "    }\n",
       "\n",
       "    .dataframe tbody tr th {\n",
       "        vertical-align: top;\n",
       "    }\n",
       "\n",
       "    .dataframe thead th {\n",
       "        text-align: right;\n",
       "    }\n",
       "</style>\n",
       "<table border=\"1\" class=\"dataframe\">\n",
       "  <thead>\n",
       "    <tr style=\"text-align: right;\">\n",
       "      <th></th>\n",
       "      <th>1000 Quotes</th>\n",
       "    </tr>\n",
       "  </thead>\n",
       "  <tbody>\n",
       "    <tr>\n",
       "      <th>0</th>\n",
       "      <td>The essence of strategy is choosing what not t...</td>\n",
       "    </tr>\n",
       "    <tr>\n",
       "      <th>1</th>\n",
       "      <td>One cannot and must not try to erase the past ...</td>\n",
       "    </tr>\n",
       "    <tr>\n",
       "      <th>2</th>\n",
       "      <td>Patriotism means to stand by the country. It d...</td>\n",
       "    </tr>\n",
       "    <tr>\n",
       "      <th>3</th>\n",
       "      <td>Death is something inevitable. When a man has ...</td>\n",
       "    </tr>\n",
       "    <tr>\n",
       "      <th>4</th>\n",
       "      <td>You have to love a nation that celebrates its ...</td>\n",
       "    </tr>\n",
       "    <tr>\n",
       "      <th>...</th>\n",
       "      <td>...</td>\n",
       "    </tr>\n",
       "    <tr>\n",
       "      <th>995</th>\n",
       "      <td>Regret for the things we did can be tempered b...</td>\n",
       "    </tr>\n",
       "    <tr>\n",
       "      <th>996</th>\n",
       "      <td>America... just a nation of two hundred millio...</td>\n",
       "    </tr>\n",
       "    <tr>\n",
       "      <th>997</th>\n",
       "      <td>For every disciplined effort there is a multip...</td>\n",
       "    </tr>\n",
       "    <tr>\n",
       "      <th>998</th>\n",
       "      <td>The spiritual journey is individual, highly pe...</td>\n",
       "    </tr>\n",
       "    <tr>\n",
       "      <th>999</th>\n",
       "      <td>The mind is not a vessel to be filled but a fi...</td>\n",
       "    </tr>\n",
       "  </tbody>\n",
       "</table>\n",
       "<p>1000 rows × 1 columns</p>\n",
       "</div>"
      ],
      "text/plain": [
       "                                           1000 Quotes\n",
       "0    The essence of strategy is choosing what not t...\n",
       "1    One cannot and must not try to erase the past ...\n",
       "2    Patriotism means to stand by the country. It d...\n",
       "3    Death is something inevitable. When a man has ...\n",
       "4    You have to love a nation that celebrates its ...\n",
       "..                                                 ...\n",
       "995  Regret for the things we did can be tempered b...\n",
       "996  America... just a nation of two hundred millio...\n",
       "997  For every disciplined effort there is a multip...\n",
       "998  The spiritual journey is individual, highly pe...\n",
       "999  The mind is not a vessel to be filled but a fi...\n",
       "\n",
       "[1000 rows x 1 columns]"
      ]
     },
     "execution_count": 35,
     "metadata": {},
     "output_type": "execute_result"
    }
   ],
   "source": [
    "df"
   ]
  },
  {
   "cell_type": "code",
   "execution_count": null,
   "id": "c28a8713",
   "metadata": {},
   "outputs": [],
   "source": []
  }
 ],
 "metadata": {
  "kernelspec": {
   "display_name": "Python 3 (ipykernel)",
   "language": "python",
   "name": "python3"
  },
  "language_info": {
   "codemirror_mode": {
    "name": "ipython",
    "version": 3
   },
   "file_extension": ".py",
   "mimetype": "text/x-python",
   "name": "python",
   "nbconvert_exporter": "python",
   "pygments_lexer": "ipython3",
   "version": "3.9.12"
  }
 },
 "nbformat": 4,
 "nbformat_minor": 5
}
