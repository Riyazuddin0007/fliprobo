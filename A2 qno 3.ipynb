{
 "cells": [
  {
   "cell_type": "markdown",
   "id": "71181ad2",
   "metadata": {},
   "source": [
    "Q3: In this question you have to scrape data using the filters available on the webpage as shown below: You have to use the location and salary filter. You have to scrape data for “Data Scientist” designation for first 10 job results. You have to scrape the job-title, job-location, company name, experience required. The location filter to be used is “Delhi/NCR”. The salary filter to be used is “3-6” lakhs The task will be done as shown in the below steps:\n",
    "\n",
    "first get thewebpage https://www.naukri.com/\n",
    "Enter “Data Scientist” in “Skill, Designations, and Companies” field.\n",
    "Then click the searchbutton.\n",
    "Then apply the location filter and salary filter by checking the respective boxes\n",
    "Then scrape the data for the first 10 jobs results youget.\n",
    "Finally create a dataframe of the scraped data. Note: All of the above steps have to be done in code. No step is to be done manually"
   ]
  },
  {
   "cell_type": "code",
   "execution_count": 1,
   "id": "bd1e1073",
   "metadata": {},
   "outputs": [],
   "source": [
    "import selenium\n",
    "import pandas as pd\n",
    "from selenium import webdriver #very important line\n",
    "import warnings\n",
    "warnings.filterwarnings('ignore')\n",
    "from selenium.common.exceptions import StaleElementReferenceException,NoSuchElementException #Can ignore this line\n",
    "from selenium.webdriver.common.by import By\n",
    "import time"
   ]
  },
  {
   "cell_type": "code",
   "execution_count": 2,
   "id": "709134bb",
   "metadata": {},
   "outputs": [],
   "source": [
    "driver=webdriver.Chrome(r'C:\\Users\\RIYAZ\\Downloads\\chromedriver_win32\\chromedriver.exe')"
   ]
  },
  {
   "cell_type": "code",
   "execution_count": 3,
   "id": "826ec194",
   "metadata": {},
   "outputs": [],
   "source": [
    "driver.get(\"https://www.naukri.com/\")"
   ]
  },
  {
   "cell_type": "code",
   "execution_count": 4,
   "id": "902b1de6",
   "metadata": {},
   "outputs": [],
   "source": [
    "designation=driver.find_element(By.CLASS_NAME,\"suggestor-input \")\n",
    "designation.send_keys('Data Scientist')"
   ]
  },
  {
   "cell_type": "code",
   "execution_count": 5,
   "id": "96e39bb0",
   "metadata": {},
   "outputs": [],
   "source": [
    "search_=driver.find_element(By.XPATH,'/html/body/div[1]/div[6]/div/div/div[6]')\n",
    "search_.click()"
   ]
  },
  {
   "cell_type": "code",
   "execution_count": 8,
   "id": "2c019627",
   "metadata": {},
   "outputs": [],
   "source": [
    "cb_location=driver.find_element(By.XPATH,'/html/body/div[1]/div[4]/div/div/section[1]/div[2]/div[5]/div[2]/div[2]/label/i')\n",
    "cb_location.click()\n",
    "time.sleep(3)"
   ]
  },
  {
   "cell_type": "code",
   "execution_count": 9,
   "id": "a34ff951",
   "metadata": {},
   "outputs": [],
   "source": [
    "cb_sal=driver.find_element(By.XPATH,'/html/body/div[1]/div[4]/div/div/section[1]/div[2]/div[6]/div[2]/div[2]/label/i')\n",
    "cb_sal.click()\n"
   ]
  },
  {
   "cell_type": "code",
   "execution_count": 10,
   "id": "7b146948",
   "metadata": {},
   "outputs": [],
   "source": [
    "Job_title=[]\n",
    "Job_location=[]\n",
    "Company_name=[]\n",
    "Experience=[]"
   ]
  },
  {
   "cell_type": "code",
   "execution_count": 11,
   "id": "db181451",
   "metadata": {},
   "outputs": [],
   "source": [
    "def fun1():\n",
    "    job_title=driver.find_elements(By.XPATH,'//a[@class=\"title ellipsis\"]')\n",
    "    for i in job_title[0:10]:\n",
    "        Job_title.append(i.text)\n",
    "\n",
    "    job_location=driver.find_elements(By.XPATH,'//span[@class=\"ellipsis fleft locWdth\"]')\n",
    "    for i in job_location[0:10]:\n",
    "        Job_location.append(i.text)\n",
    "\n",
    "    company_name=driver.find_elements(By.XPATH,'//div[@class=\"companyInfo subheading\"]')\n",
    "    for i in company_name[0:10]:\n",
    "        Company_name.append(i.text)\n",
    "    \n",
    "    experience=driver.find_elements(By.XPATH,'//span[@class=\"ellipsis fleft expwdth\"]')\n",
    "    for i in experience[0:10]:\n",
    "        Experience.append(i.text)"
   ]
  },
  {
   "cell_type": "code",
   "execution_count": 12,
   "id": "d7c17603",
   "metadata": {},
   "outputs": [],
   "source": [
    "fun1()"
   ]
  },
  {
   "cell_type": "code",
   "execution_count": 13,
   "id": "da49a0f8",
   "metadata": {},
   "outputs": [
    {
     "name": "stdout",
     "output_type": "stream",
     "text": [
      "10 10 10 10\n"
     ]
    }
   ],
   "source": [
    "print(len(Job_title),len(Job_location),len(Company_name),len(Experience))"
   ]
  },
  {
   "cell_type": "code",
   "execution_count": null,
   "id": "792cbdf2",
   "metadata": {},
   "outputs": [],
   "source": [
    "df=pd.DataFrame({'Job_title':,len(Job_location),len(Company_name),len(Experience)})"
   ]
  }
 ],
 "metadata": {
  "kernelspec": {
   "display_name": "Python 3 (ipykernel)",
   "language": "python",
   "name": "python3"
  },
  "language_info": {
   "codemirror_mode": {
    "name": "ipython",
    "version": 3
   },
   "file_extension": ".py",
   "mimetype": "text/x-python",
   "name": "python",
   "nbconvert_exporter": "python",
   "pygments_lexer": "ipython3",
   "version": "3.9.12"
  }
 },
 "nbformat": 4,
 "nbformat_minor": 5
}
